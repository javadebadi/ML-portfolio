{
 "cells": [
  {
   "cell_type": "markdown",
   "metadata": {},
   "source": [
    "# Linear Regression from scratch"
   ]
  },
  {
   "cell_type": "markdown",
   "metadata": {},
   "source": [
    "In this code, we are trying to implement a Linear Regression model from scratch for educationl purposes."
   ]
  },
  {
   "cell_type": "code",
   "execution_count": 5,
   "metadata": {},
   "outputs": [],
   "source": [
    "import numpy as np"
   ]
  },
  {
   "cell_type": "markdown",
   "metadata": {},
   "source": [
    "In Linear Regression problems, we have a continuoes variable which we want to predict.   \n",
    "The data we will use at the end is USA_Housing.csv data.\n",
    "\n",
    "**Notation**   \n",
    "\n",
    "\n",
    "| Quantity                     | Notation           | type(in code)     | \n",
    "| -----------                  | -----------        |---------------:   |\n",
    "| # features                   | $n$                |  ```int```        |\n",
    "| # training examples          | $m$                |  ```int```        |\n",
    "| # features matrix            | $X_{n\\times m}$    |  ```numpy array```|\n",
    "| shape of features matrix     | $(n\\times m)$      |  ```tuple```      |\n",
    "| # target matrix              | $y_{1\\times m}$    |  ```numpy array```|\n",
    "| shape of target matrix       | $(1\\times m)$      |  ```tuple```      |\n",
    "| weight parameters            | $w_{n\\times1}$     |  ```numpy array``` and ```dict```|\n",
    "| bias parameters              | $b$                |  ```numpy array``` and ```dict```|\n",
    "| $i^{\\text{th}}$ training example    | $X^{i}\\equiv i^{\\text{th}}$ column of $X$| ```numpy array```|\n",
    "\n",
    "In a Linear Regression model we have: \n",
    "$$ \\hat{y}(X^{i}) = w^\\dagger X^{i} + b,$$\n",
    "and in Python's vectorized implementation, we have:\n",
    "$$ \\hat{y}(X) = w^\\dagger X + b$$\n"
   ]
  },
  {
   "cell_type": "code",
   "execution_count": 6,
   "metadata": {},
   "outputs": [],
   "source": [
    "def scale_info(X,y,axis_val=1):\n",
    "    '''\n",
    "    \n",
    "    '''\n",
    "    # number of features and training example\n",
    "    n,m = X.shape\n",
    "    \n",
    "    minX = np.min(X,axis=axis_val).reshape(n,1)     # axis =1 because of our notation\n",
    "    rangeX = ( np.max(X,axis=axis_val)-np.min(X,axis=axis_val) ).reshape(n,1)\n",
    "    miny = np.min(y,axis = axis_val).reshape(1,1)\n",
    "    rangey = ( np.max(y,axis=axis_val)-np.min(y,axis=axis_val) ).reshape(1,1)\n",
    "    \n",
    "    info = dict()\n",
    "    info[\"minX\"]   = minX\n",
    "    info[\"miny\"]   = miny\n",
    "    info[\"rangeX\"] = rangeX\n",
    "    info[\"rangey\"]= rangey\n",
    "    \n",
    "    return info"
   ]
  },
  {
   "cell_type": "code",
   "execution_count": 7,
   "metadata": {},
   "outputs": [],
   "source": [
    "def normalize_data(X,y,scaling_info):\n",
    "    '''\n",
    "    a function that normalizes data according to min-max method.\n",
    "    \n",
    "    X: feature data (n*m numpy array. n: number of features. m: number of training examples.)\n",
    "    \n",
    "    y: target data (1*m numpy array.  m: number of training examples.)\n",
    "    \n",
    "    scaling_info: information about how to scale data\n",
    "    \n",
    "    '''\n",
    "    info = scale_info(X,y,axis_val=1)\n",
    "    \n",
    "    minX   = info[\"minX\"]\n",
    "    rangeX = info[\"rangeX\"]\n",
    "    miny   = info[\"miny\"]\n",
    "    rangey = info[\"rangey\"]\n",
    "    \n",
    "    X_scaled = (X-minX)/rangeX\n",
    "    y_scaled = (y-miny)/rangey\n",
    "    return X_scaled,y_scaled"
   ]
  },
  {
   "cell_type": "code",
   "execution_count": 8,
   "metadata": {},
   "outputs": [],
   "source": [
    "def initialize_parameters(X):\n",
    "    '''\n",
    "    a function to create and intialize dictionary of parameters\n",
    "    \n",
    "    input X: features matrix. (a numpy array)\n",
    "    X.shape = n * m (n: number of features. m: number of training examples)\n",
    "    \n",
    "    output: parameters ( a Python dictionary)\n",
    "        the lenghth of parameters dictionary is n+1, n for w parameters in Linear Regression\n",
    "        and 1 for bias parameter\n",
    "    '''\n",
    "    # number of features and training example\n",
    "    n,m = X.shape\n",
    "    \n",
    "    # parameters dictionary\n",
    "    parameters = dict()\n",
    "    for i in xrange(0,n):\n",
    "            parameters[\"w[{}]\".format(i)] = np.random.randn()*0.01     #intialized with random Gaussian number \n",
    "    \n",
    "    parameters[\"b\"] = 1\n",
    "    \n",
    "    assert(type(parameters)==dict)\n",
    "    \n",
    "    return parameters"
   ]
  },
  {
   "cell_type": "code",
   "execution_count": 9,
   "metadata": {},
   "outputs": [
    {
     "data": {
      "text/plain": [
       "{'b': 1,\n",
       " 'w[0]': -0.0025624579504918,\n",
       " 'w[1]': -0.010233688879607043,\n",
       " 'w[2]': -0.01690731588329334,\n",
       " 'w[3]': -0.010533186033967658,\n",
       " 'w[4]': -0.000721551550251793}"
      ]
     },
     "execution_count": 9,
     "metadata": {},
     "output_type": "execute_result"
    }
   ],
   "source": [
    "# test function\n",
    "X = np.array(range(0,15)).reshape(5,3)\n",
    "parameters = initialize_parameters(X)\n",
    "parameters"
   ]
  },
  {
   "cell_type": "code",
   "execution_count": 10,
   "metadata": {},
   "outputs": [],
   "source": [
    "def yhat(X,parameters):\n",
    "    '''\n",
    "    input X: features matrix. (a numpy array)\n",
    "    X.shape = n * m (n: number of features. m: number of training examples)\n",
    "    input parameters: (w[i] and b parameters). (a Python dictionary)\n",
    "    output: yhat (a linear regression function result): (a numpy array)\n",
    "    output is yhat value ( a 1*m numpy array) and parameters\n",
    "    \n",
    "    '''\n",
    "    # number of features\n",
    "    n = len(parameters) - 1\n",
    "    \n",
    "    # variables for parameters\n",
    "    w = np.zeros((n, 1))\n",
    "    b = np.ones((1,1))\n",
    "\n",
    "    # assign values for variables from parameters dictionary\n",
    "    for i in range(0,n):\n",
    "        w[i:i+1,0:1] = parameters[\"w[{}]\".format(i)]\n",
    "    \n",
    "    b[0:1, 0:1] = parameters[\"b\"]\n",
    "    \n",
    "    \n",
    "    yhat_value =  np.matmul(w.T,X) + b \n",
    "    \n",
    "    return yhat_value\n",
    "    "
   ]
  },
  {
   "cell_type": "code",
   "execution_count": 11,
   "metadata": {},
   "outputs": [
    {
     "data": {
      "text/plain": [
       "array([[1.20690091, 1.22475498, 1.24260904]])"
      ]
     },
     "execution_count": 11,
     "metadata": {},
     "output_type": "execute_result"
    }
   ],
   "source": [
    "# test function\n",
    "X = np.array(range(0,15)).reshape(5,3)\n",
    "parameters = initialize_parameters(X)\n",
    "yhat(X,parameters)"
   ]
  },
  {
   "cell_type": "code",
   "execution_count": 12,
   "metadata": {},
   "outputs": [],
   "source": [
    "def cost(yhat,y_true):\n",
    "    '''\n",
    "    A loss function. \n",
    "    input yhat: a (1*m) numpy array\n",
    "    input ytrue: a (1*m) numpy array\n",
    "    '''\n",
    "    m = yhat.shape[1]\n",
    "    \n",
    "    assert(yhat.shape == y_true.shape)\n",
    "    \n",
    "    loss = (1.0/m)*np.matmul(yhat - y_true, (yhat - y_true).T )[0][0]\n",
    "    return loss"
   ]
  },
  {
   "cell_type": "code",
   "execution_count": 13,
   "metadata": {},
   "outputs": [
    {
     "data": {
      "text/plain": [
       "4.863755589354599"
      ]
     },
     "execution_count": 13,
     "metadata": {},
     "output_type": "execute_result"
    }
   ],
   "source": [
    "# test function\n",
    "X = np.array(range(1,10)).reshape(3,3)\n",
    "y_true = np.array(range(2,5)).reshape(1,3)\n",
    "\n",
    "parameters = initialize_parameters(X)\n",
    "yhat_value = yhat(X,parameters)\n",
    "cost(yhat_value,y_true)"
   ]
  },
  {
   "cell_type": "code",
   "execution_count": 14,
   "metadata": {},
   "outputs": [],
   "source": [
    "def derivatives(X, parameters, y_true):\n",
    "    '''\n",
    "    '''\n",
    "    \n",
    "    yhat_value = yhat(X,parameters)\n",
    "    \n",
    "    # number of features\n",
    "    n = len(parameters) - 1\n",
    "    m = X.shape[1]\n",
    "    \n",
    "    # variables for parameters\n",
    "    dw = np.zeros((n, 1))\n",
    "    db = (2.0/m)*np.matmul(np.ones([1,m]), (yhat_value - y_true).T)\n",
    "    \n",
    "    grads = dict()\n",
    "    # assign values for variables from parameters dictionary\n",
    "    for i in range(0,n):\n",
    "        grads[\"dw[{}]\".format(i)] = (2.0/m)*np.matmul(X[i:i+1,0:m], (yhat_value - y_true).T)\n",
    "\n",
    "    grads[\"db\"] = db\n",
    "    \n",
    "    return grads\n",
    "    "
   ]
  },
  {
   "cell_type": "code",
   "execution_count": 15,
   "metadata": {},
   "outputs": [],
   "source": [
    "def update_parameters(parameters,grads,learning_rate=0.001):\n",
    "    '''\n",
    "    '''\n",
    "    # number of features\n",
    "    n = len(parameters) - 1\n",
    "    m = X.shape[1]\n",
    "    \n",
    "    # variables for parameters\n",
    "    w = np.zeros((n, 1))\n",
    "    b = np.ones((1,1)) \n",
    "    dw = np.zeros((n, 1))\n",
    "    db = np.ones((1,1))\n",
    "    \n",
    "    # assign values for variables from parameters dictionary\n",
    "    for i in range(0,n):\n",
    "        w[i:i+1,0:1] = parameters[\"w[{}]\".format(i)]\n",
    "        dw[i:i+1,0:1] = grads[\"dw[{}]\".format(i)]\n",
    "    \n",
    "    b[0:1, 0:1] = parameters[\"b\"]\n",
    "    db[0:1, 0:1] = grads[\"db\"]\n",
    "    \n",
    "    w -= learning_rate*dw\n",
    "    b -= learning_rate*db\n",
    "    \n",
    "    # assign values for variables from parameters dictionary\n",
    "    for i in range(0,n):\n",
    "        parameters[\"w[{}]\".format(i)] = w[i:i+1,0:1]\n",
    "    \n",
    "    parameters[\"b\"] = b\n",
    "    \n",
    "    return parameters"
   ]
  },
  {
   "cell_type": "code",
   "execution_count": 16,
   "metadata": {},
   "outputs": [
    {
     "data": {
      "text/plain": [
       "{'b': array([[1.00380204]]),\n",
       " 'w[0]': array([[0.01776303]]),\n",
       " 'w[1]': array([[0.03505532]]),\n",
       " 'w[2]': array([[0.03265958]])}"
      ]
     },
     "execution_count": 16,
     "metadata": {},
     "output_type": "execute_result"
    }
   ],
   "source": [
    "# test function\n",
    "X = np.array(range(1,10)).reshape(3,3)\n",
    "y_true = np.array(range(2,5)).reshape(1,3)\n",
    "\n",
    "parameters = initialize_parameters(X)\n",
    "yhat_value = yhat(X,parameters)\n",
    "cost_value = cost(yhat_value,y_true)\n",
    "grads = derivatives(X, parameters, y_true,)\n",
    "update_parameters(parameters,grads)"
   ]
  },
  {
   "cell_type": "code",
   "execution_count": 23,
   "metadata": {},
   "outputs": [],
   "source": [
    "def Linear_Regression_Model(X,y_true, learning_rate=0.001, iteration=10000):\n",
    "    \n",
    "    # initialize parematers\n",
    "    parameters = initialize_parameters(X)\n",
    "    \n",
    "    #find scaling variables\n",
    "    info = scale_info(X,y_true,axis_val=1)\n",
    "    \n",
    "    minX   = info[\"minX\"]\n",
    "    rangeX = info[\"rangeX\"]\n",
    "    miny   = info[\"miny\"]\n",
    "    rangey = info[\"rangey\"]\n",
    "    \n",
    "    #normalized data\n",
    "    X,y_true = normalize_data(X,y_true,info)\n",
    "    \n",
    "    # stores values of cost for each iteration\n",
    "    cost_list = []\n",
    "        \n",
    "    # learn the model\n",
    "    for i in xrange(1,iteration):\n",
    "        grads = derivatives(X, parameters, y_true)\n",
    "        parameters = update_parameters(parameters,grads,learning_rate)\n",
    "        if i%100==0:\n",
    "            cost_list.append(cost(yhat(X,parameters),y_true))\n",
    "            \n",
    "    def predict(X_test):\n",
    "        X_test_scaled = (X_test - minX)/(rangeX)\n",
    "        yhat1 = yhat(X_test_scaled,parameters)\n",
    "        yhat2 = yhat1*(rangey)+miny\n",
    "        return yhat2\n",
    "            \n",
    "    return predict, cost_list\n"
   ]
  },
  {
   "cell_type": "code",
   "execution_count": 24,
   "metadata": {},
   "outputs": [
    {
     "name": "stdout",
     "output_type": "stream",
     "text": [
      "Prediction = [[2.00033994 2.00033994 3.99975115]]\n"
     ]
    }
   ],
   "source": [
    "#test function\n",
    "X = np.array(range(1,10)).reshape(3,3)\n",
    "y_true = np.array(range(2,5)).reshape(1,3)\n",
    "prediction, cost_list = Linear_Regression_Model(X,y_true)\n",
    "print(\"Prediction = \"+str(prediction(X)))"
   ]
  },
  {
   "cell_type": "code",
   "execution_count": 25,
   "metadata": {},
   "outputs": [],
   "source": [
    "def plot_cost(cost_list,plot_name=\"cost\"):\n",
    "    \n",
    "    import matplotlib.pyplot as plt\n",
    "    %matplotlib inline\n",
    "    fig = plt.figure(figsize=(10,6))\n",
    "    plt.title(\"cost function vs iteration for a linear regression model\")\n",
    "    plt.ylabel(\"cost\")\n",
    "    plt.yscale('log')\n",
    "    plt.xlabel(\"iteration/100\")\n",
    "    plt.xscale('log')\n",
    "    plt.plot(cost_list, c=\"b\", linestyle='--', marker='o', markersize=5, markerfacecolor='r')\n",
    "    #plt.show()\n",
    "    plt.savefig(plot_name+\".png\")\n",
    "    \n",
    "    return fig"
   ]
  },
  {
   "cell_type": "code",
   "execution_count": 29,
   "metadata": {},
   "outputs": [],
   "source": [
    "# test function\n",
    "#fig = plot_cost(cost_list,\"cost\")"
   ]
  },
  {
   "cell_type": "code",
   "execution_count": 30,
   "metadata": {},
   "outputs": [
    {
     "name": "stdout",
     "output_type": "stream",
     "text": [
      "[NbConvertApp] Converting notebook Linear_Regression_from_scratch.ipynb to script\n",
      "[NbConvertApp] Writing 8911 bytes to Linear_Regression_from_scratch.py\n"
     ]
    }
   ],
   "source": [
    "# save whole of the notebook as python script and remove get_ipython() functions\n",
    "# in this part of notebook the empty spaces are important. So, DO NOT modify what you see!\n",
    "\n",
    "\n",
    "\n",
    "!jupyter nbconvert --to script Linear_Regression_from_scratch.ipynb\n",
    "!head -n -10 Linear_Regression_from_scratch.py > Linear_Regression_Model.py\n",
    "!rm Linear_Regression_from_scratch.py"
   ]
  },
  {
   "cell_type": "code",
   "execution_count": null,
   "metadata": {},
   "outputs": [],
   "source": []
  }
 ],
 "metadata": {
  "kernelspec": {
   "display_name": "Python 2",
   "language": "python",
   "name": "python2"
  },
  "language_info": {
   "codemirror_mode": {
    "name": "ipython",
    "version": 2
   },
   "file_extension": ".py",
   "mimetype": "text/x-python",
   "name": "python",
   "nbconvert_exporter": "python",
   "pygments_lexer": "ipython2",
   "version": "2.7.16"
  }
 },
 "nbformat": 4,
 "nbformat_minor": 2
}
